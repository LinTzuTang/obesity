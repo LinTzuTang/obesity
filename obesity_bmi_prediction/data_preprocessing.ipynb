{
 "cells": [
  {
   "cell_type": "code",
   "execution_count": 1,
   "metadata": {},
   "outputs": [],
   "source": [
    "import pandas as pd\n",
    "import sys\n",
    "import os\n",
    "sys.path.append('/home/obesity')\n",
    "from obesity.data_preprocessing import write_snp_data, write_phenotype_data"
   ]
  },
  {
   "cell_type": "code",
   "execution_count": 2,
   "metadata": {},
   "outputs": [],
   "source": [
    "# for obesity classifier\n",
    "output_root='/home/obesity/snp_data/snp_data_20210625' \n",
    "output_phenotype_root='/home/obesity/input_data/phenotype_20210625' \n",
    "male_train_snp_normal = '/home/obesity/input_data/ped_20210625/male_train_91_snp_normal.ped'\n",
    "male_train_snp_obesity = '/home/obesity/input_data/ped_20210625/male_train_91_snp_obesity.ped'\n",
    "male_valid_snp_normal = '/home/obesity/input_data/ped_20210625/male_valid_91_snp_normal.ped'\n",
    "male_valid_snp_obesity= '/home/obesity/input_data/ped_20210625/male_valid_91_snp_obesity.ped'\n",
    "male_test_snp_normal = '/home/obesity/input_data/ped_20210625/male_test_91_snp_normal.ped'\n",
    "male_test_snp_obesity = '/home/obesity/input_data/ped_20210625/male_test_91_snp_obesity.ped'"
   ]
  },
  {
   "cell_type": "code",
   "execution_count": 3,
   "metadata": {},
   "outputs": [],
   "source": [
    "ped = pd.read_table(male_test_snp_obesity , sep= '\\t', low_memory=False, header= None)"
   ]
  },
  {
   "cell_type": "code",
   "execution_count": 4,
   "metadata": {},
   "outputs": [
    {
     "data": {
      "text/plain": [
       "'/home/obesity/snp_data/snp_data_20210625/male_test_snp_obesity_SNP_604091_#_216.tsv'"
      ]
     },
     "execution_count": 4,
     "metadata": {},
     "output_type": "execute_result"
    }
   ],
   "source": [
    "write_snp_data(ped,ids=None,root=output_root, prefix='male_test_snp_obesity')"
   ]
  },
  {
   "cell_type": "code",
   "execution_count": 5,
   "metadata": {},
   "outputs": [
    {
     "data": {
      "text/plain": [
       "'/home/obesity/input_data/phenotype_20210625/male_test_snp_obesity.csv'"
      ]
     },
     "execution_count": 5,
     "metadata": {},
     "output_type": "execute_result"
    }
   ],
   "source": [
    "write_phenotype_data(ped,output_phenotype_root, prefix='male_test_snp_obesity')"
   ]
  },
  {
   "cell_type": "code",
   "execution_count": null,
   "metadata": {},
   "outputs": [],
   "source": []
  },
  {
   "cell_type": "code",
   "execution_count": 42,
   "metadata": {},
   "outputs": [],
   "source": [
    "# for bmi predictor\n",
    "output_root='/home/obesity/snp_data/snp_data_20210611_2' \n",
    "output_phenotype_root='/home/obesity/input_data/phenotype_20210611_2' \n",
    "train_i_snp = '/home/obesity/input_data/ped_20210611_2/train_991_i_snp.ped'\n",
    "valid_i_snp = '/home/obesity/input_data/ped_20210611_2/valid_991_i_snp.ped'\n",
    "test_i_snp = '/home/obesity/input_data/ped_20210611_2/test_991_i_snp.ped'"
   ]
  },
  {
   "cell_type": "code",
   "execution_count": 47,
   "metadata": {},
   "outputs": [],
   "source": [
    "ped = pd.read_table(test_i_snp , sep= '\\t', low_memory=False, header= None)"
   ]
  },
  {
   "cell_type": "code",
   "execution_count": null,
   "metadata": {},
   "outputs": [],
   "source": [
    "write_snp_data(ped,ids=None,root=output_root, prefix='test_i_snp')"
   ]
  },
  {
   "cell_type": "code",
   "execution_count": 48,
   "metadata": {},
   "outputs": [
    {
     "data": {
      "text/plain": [
       "'/home/obesity/input_data/phenotype_20210611_2/test_i_snp.csv'"
      ]
     },
     "execution_count": 48,
     "metadata": {},
     "output_type": "execute_result"
    }
   ],
   "source": [
    "write_phenotype_data(ped,output_phenotype_root, prefix='test_i_snp')"
   ]
  }
 ],
 "metadata": {
  "kernelspec": {
   "display_name": "Python 3",
   "language": "python",
   "name": "python3"
  },
  "language_info": {
   "codemirror_mode": {
    "name": "ipython",
    "version": 3
   },
   "file_extension": ".py",
   "mimetype": "text/x-python",
   "name": "python",
   "nbconvert_exporter": "python",
   "pygments_lexer": "ipython3",
   "version": "3.6.9"
  }
 },
 "nbformat": 4,
 "nbformat_minor": 4
}
