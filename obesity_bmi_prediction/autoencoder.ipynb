{
 "cells": [
  {
   "cell_type": "code",
   "execution_count": 2,
   "metadata": {},
   "outputs": [],
   "source": [
    "import pandas as pd\n",
    "import numpy as np\n",
    "import sys\n",
    "sys.path.append('/home/obesity')\n",
    "from obesity.snp_encoding_traintest_split import snp_fast_encoding_and_labeling\n",
    "from obesity.model import dense_model\n",
    "import os\n",
    "os.environ['CUDA_VISIBLE_DEVICES']='0'\n",
    "os.environ['TF_FORCE_GPU_ALLOW_GROWTH'] = 'true'"
   ]
  },
  {
   "cell_type": "code",
   "execution_count": 3,
   "metadata": {},
   "outputs": [],
   "source": [
    "train_obesity_snp_data_path = '/home/obesity/snp_data/snp_data_20210429/train_0002_obesity_SNP_5241_#_3786.tsv'\n",
    "train_normal_snp_data_path = '/home/obesity/snp_data/snp_data_20210429/train_0002_normal_SNP_5241_#_29092.tsv'\n",
    "valid_obesity_snp_data_path = '/home/obesity/snp_data/snp_data_20210429/valid_0002_obesity_SNP_5241_#_414.tsv'\n",
    "valid_normal_snp_data_path = '/home/obesity/snp_data/snp_data_20210429/valid_0002_normal_SNP_5241_#_3227.tsv'\n",
    "test_obesity_snp_data_path = '/home/obesity/snp_data/snp_data_20210429/test_0002_obesity _SNP_5241_#_641.tsv'\n",
    "test_normal_snp_data_path = '/home/obesity/snp_data/snp_data_20210429/test_0002_normal _SNP_5241_#_4321.tsv'"
   ]
  },
  {
   "cell_type": "code",
   "execution_count": 4,
   "metadata": {},
   "outputs": [],
   "source": [
    "train_data, train_labels = snp_fast_encoding_and_labeling(train_normal_snp_data_path, train_obesity_snp_data_path)\n",
    "valid_data, valid_labels = snp_fast_encoding_and_labeling(valid_normal_snp_data_path, valid_obesity_snp_data_path)\n",
    "test_data, test_labels = snp_fast_encoding_and_labeling(test_normal_snp_data_path, test_obesity_snp_data_path)"
   ]
  },
  {
   "cell_type": "code",
   "execution_count": 5,
   "metadata": {},
   "outputs": [],
   "source": [
    "from tensorflow.keras.utils import to_categorical\n",
    "train_data_onehot = to_categorical(train_data)\n",
    "valid_data_onehot = to_categorical(valid_data)"
   ]
  },
  {
   "cell_type": "code",
   "execution_count": 6,
   "metadata": {},
   "outputs": [
    {
     "data": {
      "text/plain": [
       "(3641, 5241, 11)"
      ]
     },
     "execution_count": 6,
     "metadata": {},
     "output_type": "execute_result"
    }
   ],
   "source": [
    "valid_data_onehot.shape"
   ]
  },
  {
   "cell_type": "code",
   "execution_count": 7,
   "metadata": {},
   "outputs": [],
   "source": [
    "from tensorflow.keras.layers import Concatenate, BatchNormalization\n",
    "import tensorflow.keras\n",
    "from tensorflow.keras.layers import Dense, Dropout,Softmax\n",
    "from tensorflow.keras.layers import Embedding,Reshape\n",
    "from tensorflow.keras.layers import Input,Flatten\n",
    "from tensorflow.keras.layers import LeakyReLU,RepeatVector\n",
    "from tensorflow.keras import Model\n",
    "from tensorflow.keras import optimizers\n",
    "import tensorflow as tf\n",
    "import matplotlib.pyplot as plt\n",
    "from tensorflow.keras import layers, losses\n",
    "\n",
    "class Autoencoder(tf.keras.Model):\n",
    "    def __init__(self,train_data):\n",
    "        super().__init__()\n",
    "        n_cols = train_data.shape[1]\n",
    "        input_ = Input(shape=(n_cols,11))\n",
    "        #Input layer\n",
    "        # e = Embedding(11, 8)(input_)\n",
    "        e = Flatten()(input_)\n",
    "        #Encodeing\n",
    "        x = BatchNormalization(center=False,scale=False)(LeakyReLU()(Dense(1024)(e)))\n",
    "        embedding = BatchNormalization(center=False,scale=False,name='embedding')(LeakyReLU()(Dense(256)(x)))\n",
    "        #Decoding\n",
    "        x = BatchNormalization(center=False,scale=False)(LeakyReLU()(Dense(1024)(embedding)))\n",
    "        x = Dense(n_cols*11, activation='linear')(x)\n",
    "        x = Reshape((n_cols,11))(x)\n",
    "        output_ = Softmax(axis=2)(x)\n",
    "        self.model = tf.keras.Model(input_,output_)\n",
    "        self.build((1,n_cols,11))\n",
    "    \n",
    "    def summary(self,show_detail=False):\n",
    "        if show_detail:\n",
    "            return self.model.summary()\n",
    "        else: \n",
    "            return super().summary()\n",
    "        \n",
    "    def call(self, inputs, training=None):\n",
    "        x = self.model(inputs,training)     \n",
    "        return x"
   ]
  },
  {
   "cell_type": "code",
   "execution_count": 9,
   "metadata": {},
   "outputs": [
    {
     "name": "stdout",
     "output_type": "stream",
     "text": [
      "Model: \"functional_3\"\n",
      "_________________________________________________________________\n",
      "Layer (type)                 Output Shape              Param #   \n",
      "=================================================================\n",
      "input_2 (InputLayer)         [(None, 5241, 11)]        0         \n",
      "_________________________________________________________________\n",
      "flatten_1 (Flatten)          (None, 57651)             0         \n",
      "_________________________________________________________________\n",
      "dense_4 (Dense)              (None, 1024)              59035648  \n",
      "_________________________________________________________________\n",
      "leaky_re_lu_3 (LeakyReLU)    (None, 1024)              0         \n",
      "_________________________________________________________________\n",
      "batch_normalization_2 (Batch (None, 1024)              2048      \n",
      "_________________________________________________________________\n",
      "dense_5 (Dense)              (None, 256)               262400    \n",
      "_________________________________________________________________\n",
      "leaky_re_lu_4 (LeakyReLU)    (None, 256)               0         \n",
      "_________________________________________________________________\n",
      "embedding (BatchNormalizatio (None, 256)               512       \n",
      "_________________________________________________________________\n",
      "dense_6 (Dense)              (None, 1024)              263168    \n",
      "_________________________________________________________________\n",
      "leaky_re_lu_5 (LeakyReLU)    (None, 1024)              0         \n",
      "_________________________________________________________________\n",
      "batch_normalization_3 (Batch (None, 1024)              2048      \n",
      "_________________________________________________________________\n",
      "dense_7 (Dense)              (None, 57651)             59092275  \n",
      "_________________________________________________________________\n",
      "reshape_1 (Reshape)          (None, 5241, 11)          0         \n",
      "_________________________________________________________________\n",
      "softmax_1 (Softmax)          (None, 5241, 11)          0         \n",
      "=================================================================\n",
      "Total params: 118,658,099\n",
      "Trainable params: 118,653,491\n",
      "Non-trainable params: 4,608\n",
      "_________________________________________________________________\n"
     ]
    }
   ],
   "source": [
    "e = Autoencoder(train_data_onehot)\n",
    "e.summary(show_detail=True)"
   ]
  },
  {
   "cell_type": "code",
   "execution_count": 22,
   "metadata": {},
   "outputs": [
    {
     "data": {
      "image/png": "[encoded data removed]",
      "text/plain": [
       "<Figure size 432x288 with 1 Axes>"
      ]
     },
     "metadata": {
      "needs_background": "light"
     },
     "output_type": "display_data"
    }
   ],
   "source": [
    "plt.imshow(e(train_data_onehot[1].reshape(1,5241,11))[0].numpy().transpose()[:,:100])\n",
    "plt.gray()"
   ]
  },
  {
   "cell_type": "code",
   "execution_count": 23,
   "metadata": {},
   "outputs": [
    {
     "data": {
      "image/png": "[encoded data removed]",
      "text/plain": [
       "<Figure size 432x288 with 1 Axes>"
      ]
     },
     "metadata": {
      "needs_background": "light"
     },
     "output_type": "display_data"
    }
   ],
   "source": [
    "plt.imshow(train_data_onehot[1].reshape(1,5241,11)[0].transpose()[:,:100])\n",
    "plt.gray()"
   ]
  },
  {
   "cell_type": "code",
   "execution_count": 10,
   "metadata": {},
   "outputs": [],
   "source": [
    "reduce_lr = tensorflow.keras.callbacks.ReduceLROnPlateau(monitor='val_loss', factor=0.5,\n",
    "                                              patience=50,verbose=1)\n",
    "e_s = tensorflow.keras.callbacks.EarlyStopping(monitor='val_loss',\n",
    "                                      min_delta=0,\n",
    "                                      patience=150,\n",
    "                                      verbose=0, mode='min')"
   ]
  },
  {
   "cell_type": "code",
   "execution_count": 11,
   "metadata": {},
   "outputs": [
    {
     "name": "stdout",
     "output_type": "stream",
     "text": [
      "Epoch 1/1000\n",
      "22/22 [==============================] - 10s 456ms/step - loss: 0.0829 - val_loss: 0.0826\n",
      "Epoch 2/1000\n",
      "22/22 [==============================] - 19s 858ms/step - loss: 0.0828 - val_loss: 0.0826\n",
      "Epoch 3/1000\n",
      "22/22 [==============================] - 19s 863ms/step - loss: 0.0826 - val_loss: 0.0824\n",
      "Epoch 4/1000\n",
      "22/22 [==============================] - 18s 810ms/step - loss: 0.0805 - val_loss: 0.0789\n",
      "Epoch 5/1000\n",
      "22/22 [==============================] - 16s 720ms/step - loss: 0.0674 - val_loss: 0.0611\n",
      "Epoch 6/1000\n",
      "22/22 [==============================] - 16s 743ms/step - loss: 0.0598 - val_loss: 0.0601\n",
      "Epoch 7/1000\n",
      "22/22 [==============================] - 17s 769ms/step - loss: 0.0590 - val_loss: 0.0594\n",
      "Epoch 8/1000\n",
      "22/22 [==============================] - 17s 783ms/step - loss: 0.0588 - val_loss: 0.0596\n",
      "Epoch 9/1000\n",
      "22/22 [==============================] - 17s 782ms/step - loss: 0.0587 - val_loss: 0.0598\n",
      "Epoch 10/1000\n",
      "22/22 [==============================] - 17s 781ms/step - loss: 0.0587 - val_loss: 0.0601\n",
      "Epoch 11/1000\n",
      "22/22 [==============================] - 17s 790ms/step - loss: 0.0586 - val_loss: 0.0603\n",
      "Epoch 12/1000\n",
      "22/22 [==============================] - 17s 765ms/step - loss: 0.0586 - val_loss: 0.0605\n",
      "Epoch 13/1000\n",
      "22/22 [==============================] - 17s 760ms/step - loss: 0.0585 - val_loss: 0.0605\n",
      "Epoch 14/1000\n",
      "22/22 [==============================] - 18s 800ms/step - loss: 0.0585 - val_loss: 0.0605\n",
      "Epoch 15/1000\n",
      "22/22 [==============================] - 16s 717ms/step - loss: 0.0585 - val_loss: 0.0603\n",
      "Epoch 16/1000\n",
      "22/22 [==============================] - 15s 698ms/step - loss: 0.0584 - val_loss: 0.0602\n",
      "Epoch 17/1000\n",
      "22/22 [==============================] - 14s 657ms/step - loss: 0.0584 - val_loss: 0.0601\n",
      "Epoch 18/1000\n",
      "22/22 [==============================] - 15s 696ms/step - loss: 0.0583 - val_loss: 0.0599\n",
      "Epoch 19/1000\n",
      "22/22 [==============================] - 15s 686ms/step - loss: 0.0582 - val_loss: 0.0598\n",
      "Epoch 20/1000\n",
      "22/22 [==============================] - 17s 786ms/step - loss: 0.0579 - val_loss: 0.0592\n",
      "Epoch 21/1000\n",
      "22/22 [==============================] - 15s 702ms/step - loss: 0.0573 - val_loss: 0.0584\n",
      "Epoch 22/1000\n",
      "22/22 [==============================] - 16s 709ms/step - loss: 0.0565 - val_loss: 0.0573\n",
      "Epoch 23/1000\n",
      "22/22 [==============================] - 15s 661ms/step - loss: 0.0549 - val_loss: 0.0435\n",
      "Epoch 24/1000\n",
      "22/22 [==============================] - 14s 619ms/step - loss: 0.0520 - val_loss: 0.0420\n",
      "Epoch 25/1000\n",
      "22/22 [==============================] - 12s 559ms/step - loss: 0.0507 - val_loss: 0.0519\n",
      "Epoch 26/1000\n",
      "22/22 [==============================] - 15s 686ms/step - loss: 0.0502 - val_loss: 0.0513\n",
      "Epoch 27/1000\n",
      "22/22 [==============================] - 15s 662ms/step - loss: 0.0499 - val_loss: 0.0508\n",
      "Epoch 28/1000\n",
      "22/22 [==============================] - 16s 720ms/step - loss: 0.0497 - val_loss: 0.0503\n",
      "Epoch 29/1000\n",
      "22/22 [==============================] - 18s 805ms/step - loss: 0.0495 - val_loss: 0.0500\n",
      "Epoch 30/1000\n",
      "22/22 [==============================] - 16s 743ms/step - loss: 0.0494 - val_loss: 0.0500\n",
      "Epoch 31/1000\n",
      "22/22 [==============================] - 17s 772ms/step - loss: 0.0493 - val_loss: 0.0497\n",
      "Epoch 32/1000\n",
      "22/22 [==============================] - 15s 688ms/step - loss: 0.0493 - val_loss: 0.0498\n",
      "Epoch 33/1000\n",
      "22/22 [==============================] - 15s 685ms/step - loss: 0.0492 - val_loss: 0.0497\n",
      "Epoch 34/1000\n",
      "22/22 [==============================] - 14s 658ms/step - loss: 0.0492 - val_loss: 0.0496\n",
      "Epoch 35/1000\n",
      "22/22 [==============================] - 14s 657ms/step - loss: 0.0491 - val_loss: 0.0497\n",
      "Epoch 36/1000\n",
      "22/22 [==============================] - 15s 677ms/step - loss: 0.0491 - val_loss: 0.0497\n",
      "Epoch 37/1000\n",
      "22/22 [==============================] - 14s 632ms/step - loss: 0.0490 - val_loss: 0.0496\n",
      "Epoch 38/1000\n",
      "22/22 [==============================] - 12s 529ms/step - loss: 0.0490 - val_loss: 0.0495\n",
      "Epoch 39/1000\n",
      "22/22 [==============================] - 16s 710ms/step - loss: 0.0490 - val_loss: 0.0495\n",
      "Epoch 40/1000\n",
      "22/22 [==============================] - 16s 749ms/step - loss: 0.0489 - val_loss: 0.0495\n",
      "Epoch 41/1000\n",
      "22/22 [==============================] - 17s 783ms/step - loss: 0.0489 - val_loss: 0.0494\n",
      "Epoch 42/1000\n",
      "22/22 [==============================] - 15s 704ms/step - loss: 0.0489 - val_loss: 0.0495\n",
      "Epoch 43/1000\n",
      "22/22 [==============================] - 15s 666ms/step - loss: 0.0488 - val_loss: 0.0493\n",
      "Epoch 44/1000\n",
      "22/22 [==============================] - 16s 734ms/step - loss: 0.0488 - val_loss: 0.0493\n",
      "Epoch 45/1000\n",
      "22/22 [==============================] - 16s 730ms/step - loss: 0.0488 - val_loss: 0.0492\n",
      "Epoch 46/1000\n",
      "22/22 [==============================] - 16s 733ms/step - loss: 0.0488 - val_loss: 0.0492\n",
      "Epoch 47/1000\n",
      "22/22 [==============================] - 15s 670ms/step - loss: 0.0487 - val_loss: 0.0492\n",
      "Epoch 48/1000\n",
      "22/22 [==============================] - 15s 666ms/step - loss: 0.0487 - val_loss: 0.0491\n",
      "Epoch 49/1000\n",
      "22/22 [==============================] - 15s 687ms/step - loss: 0.0487 - val_loss: 0.0490\n",
      "Epoch 50/1000\n",
      "22/22 [==============================] - 13s 612ms/step - loss: 0.0486 - val_loss: 0.0490\n",
      "Epoch 51/1000\n",
      "22/22 [==============================] - 16s 708ms/step - loss: 0.0486 - val_loss: 0.0490\n",
      "Epoch 52/1000\n",
      "22/22 [==============================] - 15s 684ms/step - loss: 0.0486 - val_loss: 0.0490\n",
      "Epoch 53/1000\n",
      "22/22 [==============================] - 16s 714ms/step - loss: 0.0486 - val_loss: 0.0489\n",
      "Epoch 54/1000\n",
      "22/22 [==============================] - 15s 702ms/step - loss: 0.0486 - val_loss: 0.0489\n",
      "Epoch 55/1000\n",
      "22/22 [==============================] - 16s 727ms/step - loss: 0.0485 - val_loss: 0.0489\n",
      "Epoch 56/1000\n",
      "22/22 [==============================] - 17s 766ms/step - loss: 0.0485 - val_loss: 0.0488\n",
      "Epoch 57/1000\n",
      "22/22 [==============================] - 16s 743ms/step - loss: 0.0485 - val_loss: 0.0488\n",
      "Epoch 58/1000\n",
      "22/22 [==============================] - 16s 725ms/step - loss: 0.0485 - val_loss: 0.0487\n",
      "Epoch 59/1000\n",
      "22/22 [==============================] - 16s 747ms/step - loss: 0.0484 - val_loss: 0.0487\n",
      "Epoch 60/1000\n",
      "22/22 [==============================] - 16s 731ms/step - loss: 0.0484 - val_loss: 0.0488\n",
      "Epoch 61/1000\n",
      "22/22 [==============================] - 16s 729ms/step - loss: 0.0484 - val_loss: 0.0487\n",
      "Epoch 62/1000\n",
      "22/22 [==============================] - 13s 590ms/step - loss: 0.0484 - val_loss: 0.0487\n",
      "Epoch 63/1000\n",
      "22/22 [==============================] - 17s 784ms/step - loss: 0.0484 - val_loss: 0.0487\n",
      "Epoch 64/1000\n",
      "22/22 [==============================] - 16s 748ms/step - loss: 0.0483 - val_loss: 0.0487\n",
      "Epoch 65/1000\n",
      "22/22 [==============================] - 18s 833ms/step - loss: 0.0483 - val_loss: 0.0486\n",
      "Epoch 66/1000\n",
      "22/22 [==============================] - 18s 797ms/step - loss: 0.0483 - val_loss: 0.0486\n",
      "Epoch 67/1000\n",
      "22/22 [==============================] - 19s 850ms/step - loss: 0.0483 - val_loss: 0.0486\n",
      "Epoch 68/1000\n",
      "22/22 [==============================] - 19s 848ms/step - loss: 0.0483 - val_loss: 0.0486\n",
      "Epoch 69/1000\n",
      "22/22 [==============================] - 18s 827ms/step - loss: 0.0482 - val_loss: 0.0486\n",
      "Epoch 70/1000\n",
      "22/22 [==============================] - 19s 866ms/step - loss: 0.0482 - val_loss: 0.0486\n",
      "Epoch 71/1000\n",
      "22/22 [==============================] - 18s 839ms/step - loss: 0.0482 - val_loss: 0.0486\n",
      "Epoch 72/1000\n",
      "22/22 [==============================] - 18s 833ms/step - loss: 0.0482 - val_loss: 0.0486\n",
      "Epoch 73/1000\n",
      "22/22 [==============================] - 19s 858ms/step - loss: 0.0482 - val_loss: 0.0486\n",
      "Epoch 74/1000\n",
      "22/22 [==============================] - ETA: 0s - loss: 0.0482\n",
      "Epoch 00074: ReduceLROnPlateau reducing learning rate to 4.999999873689376e-05.\n",
      "22/22 [==============================] - 18s 825ms/step - loss: 0.0482 - val_loss: 0.0485\n",
      "Epoch 75/1000\n",
      "22/22 [==============================] - 19s 859ms/step - loss: 0.0481 - val_loss: 0.0485\n",
      "Epoch 76/1000\n",
      "22/22 [==============================] - 19s 842ms/step - loss: 0.0481 - val_loss: 0.0485\n",
      "Epoch 77/1000\n",
      "22/22 [==============================] - 18s 831ms/step - loss: 0.0481 - val_loss: 0.0485\n",
      "Epoch 78/1000\n"
     ]
    },
    {
     "name": "stdout",
     "output_type": "stream",
     "text": [
      "22/22 [==============================] - 18s 831ms/step - loss: 0.0481 - val_loss: 0.0485\n",
      "Epoch 79/1000\n",
      "22/22 [==============================] - 19s 858ms/step - loss: 0.0481 - val_loss: 0.0485\n",
      "Epoch 80/1000\n",
      "22/22 [==============================] - 19s 845ms/step - loss: 0.0481 - val_loss: 0.0485\n",
      "Epoch 81/1000\n",
      "22/22 [==============================] - 19s 844ms/step - loss: 0.0481 - val_loss: 0.0485\n",
      "Epoch 82/1000\n",
      "22/22 [==============================] - 19s 851ms/step - loss: 0.0481 - val_loss: 0.0485\n",
      "Epoch 83/1000\n",
      "22/22 [==============================] - 19s 861ms/step - loss: 0.0481 - val_loss: 0.0485\n",
      "Epoch 84/1000\n",
      "22/22 [==============================] - 18s 828ms/step - loss: 0.0481 - val_loss: 0.0485\n",
      "Epoch 85/1000\n",
      "22/22 [==============================] - 19s 853ms/step - loss: 0.0481 - val_loss: 0.0485\n",
      "Epoch 86/1000\n",
      "22/22 [==============================] - 18s 823ms/step - loss: 0.0481 - val_loss: 0.0485\n",
      "Epoch 87/1000\n",
      "22/22 [==============================] - 18s 811ms/step - loss: 0.0480 - val_loss: 0.0485\n",
      "Epoch 88/1000\n",
      "22/22 [==============================] - 18s 812ms/step - loss: 0.0480 - val_loss: 0.0485\n",
      "Epoch 89/1000\n",
      "22/22 [==============================] - 15s 662ms/step - loss: 0.0480 - val_loss: 0.0485\n",
      "Epoch 90/1000\n",
      "22/22 [==============================] - 16s 727ms/step - loss: 0.0480 - val_loss: 0.0485\n",
      "Epoch 91/1000\n",
      "22/22 [==============================] - 14s 645ms/step - loss: 0.0480 - val_loss: 0.0485\n",
      "Epoch 92/1000\n",
      "22/22 [==============================] - 16s 749ms/step - loss: 0.0480 - val_loss: 0.0484\n",
      "Epoch 93/1000\n",
      "22/22 [==============================] - 15s 665ms/step - loss: 0.0480 - val_loss: 0.0485\n",
      "Epoch 94/1000\n",
      "22/22 [==============================] - 16s 728ms/step - loss: 0.0480 - val_loss: 0.0484\n",
      "Epoch 95/1000\n",
      "22/22 [==============================] - 17s 753ms/step - loss: 0.0480 - val_loss: 0.0484\n",
      "Epoch 96/1000\n",
      "22/22 [==============================] - 17s 794ms/step - loss: 0.0480 - val_loss: 0.0484\n",
      "Epoch 97/1000\n",
      "22/22 [==============================] - 17s 757ms/step - loss: 0.0480 - val_loss: 0.0484\n",
      "Epoch 98/1000\n",
      "22/22 [==============================] - 17s 761ms/step - loss: 0.0480 - val_loss: 0.0484\n",
      "Epoch 99/1000\n",
      "22/22 [==============================] - 17s 795ms/step - loss: 0.0480 - val_loss: 0.0484\n",
      "Epoch 100/1000\n",
      "22/22 [==============================] - 17s 780ms/step - loss: 0.0480 - val_loss: 0.0484\n",
      "Epoch 101/1000\n",
      "22/22 [==============================] - 16s 745ms/step - loss: 0.0480 - val_loss: 0.0484\n",
      "Epoch 102/1000\n",
      "22/22 [==============================] - 15s 672ms/step - loss: 0.0479 - val_loss: 0.0484\n",
      "Epoch 103/1000\n",
      "22/22 [==============================] - 13s 596ms/step - loss: 0.0479 - val_loss: 0.0484\n",
      "Epoch 104/1000\n",
      "22/22 [==============================] - 11s 514ms/step - loss: 0.0479 - val_loss: 0.0484\n",
      "Epoch 105/1000\n",
      "22/22 [==============================] - 15s 694ms/step - loss: 0.0479 - val_loss: 0.0484\n",
      "Epoch 106/1000\n",
      "22/22 [==============================] - 12s 560ms/step - loss: 0.0479 - val_loss: 0.0484\n",
      "Epoch 107/1000\n",
      "22/22 [==============================] - 11s 479ms/step - loss: 0.0479 - val_loss: 0.0484\n",
      "Epoch 108/1000\n",
      "22/22 [==============================] - 16s 714ms/step - loss: 0.0479 - val_loss: 0.0484\n",
      "Epoch 109/1000\n",
      "22/22 [==============================] - 15s 671ms/step - loss: 0.0479 - val_loss: 0.0484\n",
      "Epoch 110/1000\n",
      "22/22 [==============================] - 15s 685ms/step - loss: 0.0479 - val_loss: 0.0484\n",
      "Epoch 111/1000\n",
      "22/22 [==============================] - 17s 761ms/step - loss: 0.0479 - val_loss: 0.0484\n",
      "Epoch 112/1000\n",
      "22/22 [==============================] - 16s 724ms/step - loss: 0.0479 - val_loss: 0.0484\n",
      "Epoch 113/1000\n",
      "22/22 [==============================] - 13s 609ms/step - loss: 0.0479 - val_loss: 0.0484\n",
      "Epoch 114/1000\n",
      "22/22 [==============================] - 13s 583ms/step - loss: 0.0479 - val_loss: 0.0484\n",
      "Epoch 115/1000\n",
      "22/22 [==============================] - 15s 674ms/step - loss: 0.0479 - val_loss: 0.0484\n",
      "Epoch 116/1000\n",
      "22/22 [==============================] - 15s 703ms/step - loss: 0.0479 - val_loss: 0.0484\n",
      "Epoch 117/1000\n",
      "22/22 [==============================] - 16s 731ms/step - loss: 0.0479 - val_loss: 0.0484\n",
      "Epoch 118/1000\n",
      "22/22 [==============================] - 16s 721ms/step - loss: 0.0479 - val_loss: 0.0484\n",
      "Epoch 119/1000\n",
      "22/22 [==============================] - 17s 780ms/step - loss: 0.0479 - val_loss: 0.0484\n",
      "Epoch 120/1000\n",
      "22/22 [==============================] - 15s 702ms/step - loss: 0.0479 - val_loss: 0.0484\n",
      "Epoch 121/1000\n",
      "22/22 [==============================] - 14s 648ms/step - loss: 0.0478 - val_loss: 0.0484\n",
      "Epoch 122/1000\n",
      "22/22 [==============================] - 15s 664ms/step - loss: 0.0478 - val_loss: 0.0484\n",
      "Epoch 123/1000\n",
      "22/22 [==============================] - 17s 778ms/step - loss: 0.0478 - val_loss: 0.0484\n",
      "Epoch 124/1000\n",
      "22/22 [==============================] - ETA: 0s - loss: 0.0478\n",
      "Epoch 00124: ReduceLROnPlateau reducing learning rate to 2.499999936844688e-05.\n",
      "22/22 [==============================] - 18s 813ms/step - loss: 0.0478 - val_loss: 0.0484\n",
      "Epoch 125/1000\n",
      "22/22 [==============================] - 16s 728ms/step - loss: 0.0478 - val_loss: 0.0484\n",
      "Epoch 126/1000\n",
      "22/22 [==============================] - 17s 772ms/step - loss: 0.0478 - val_loss: 0.0484\n",
      "Epoch 127/1000\n",
      "22/22 [==============================] - 17s 764ms/step - loss: 0.0478 - val_loss: 0.0484\n",
      "Epoch 128/1000\n",
      "22/22 [==============================] - 17s 788ms/step - loss: 0.0478 - val_loss: 0.0484\n",
      "Epoch 129/1000\n",
      "22/22 [==============================] - 17s 755ms/step - loss: 0.0478 - val_loss: 0.0484\n",
      "Epoch 130/1000\n",
      "22/22 [==============================] - 16s 742ms/step - loss: 0.0478 - val_loss: 0.0484\n",
      "Epoch 131/1000\n",
      "22/22 [==============================] - 16s 741ms/step - loss: 0.0478 - val_loss: 0.0484\n",
      "Epoch 132/1000\n",
      "22/22 [==============================] - 17s 775ms/step - loss: 0.0478 - val_loss: 0.0484\n",
      "Epoch 133/1000\n",
      "22/22 [==============================] - 17s 751ms/step - loss: 0.0478 - val_loss: 0.0484\n",
      "Epoch 134/1000\n",
      "22/22 [==============================] - 17s 778ms/step - loss: 0.0478 - val_loss: 0.0484\n",
      "Epoch 135/1000\n",
      "22/22 [==============================] - 16s 717ms/step - loss: 0.0478 - val_loss: 0.0484\n",
      "Epoch 136/1000\n",
      "22/22 [==============================] - 14s 641ms/step - loss: 0.0478 - val_loss: 0.0484\n",
      "Epoch 137/1000\n",
      "22/22 [==============================] - 15s 702ms/step - loss: 0.0478 - val_loss: 0.0484\n",
      "Epoch 138/1000\n",
      "22/22 [==============================] - 13s 611ms/step - loss: 0.0478 - val_loss: 0.0484\n",
      "Epoch 139/1000\n",
      "22/22 [==============================] - 16s 706ms/step - loss: 0.0478 - val_loss: 0.0484\n",
      "Epoch 140/1000\n",
      "22/22 [==============================] - 11s 505ms/step - loss: 0.0478 - val_loss: 0.0484\n",
      "Epoch 141/1000\n",
      "22/22 [==============================] - 10s 453ms/step - loss: 0.0478 - val_loss: 0.0484\n",
      "Epoch 142/1000\n",
      "22/22 [==============================] - 14s 627ms/step - loss: 0.0478 - val_loss: 0.0484\n",
      "Epoch 143/1000\n",
      "22/22 [==============================] - 14s 625ms/step - loss: 0.0478 - val_loss: 0.0484\n",
      "Epoch 144/1000\n",
      "22/22 [==============================] - 15s 663ms/step - loss: 0.0478 - val_loss: 0.0484\n",
      "Epoch 145/1000\n",
      "22/22 [==============================] - 16s 723ms/step - loss: 0.0478 - val_loss: 0.0484\n",
      "Epoch 146/1000\n",
      "22/22 [==============================] - 15s 696ms/step - loss: 0.0478 - val_loss: 0.0484\n",
      "Epoch 147/1000\n",
      "22/22 [==============================] - 16s 713ms/step - loss: 0.0478 - val_loss: 0.0484\n",
      "Epoch 148/1000\n",
      "22/22 [==============================] - 15s 675ms/step - loss: 0.0478 - val_loss: 0.0484\n",
      "Epoch 149/1000\n",
      "22/22 [==============================] - 16s 709ms/step - loss: 0.0478 - val_loss: 0.0484\n",
      "Epoch 150/1000\n",
      "22/22 [==============================] - 14s 626ms/step - loss: 0.0478 - val_loss: 0.0484\n",
      "Epoch 151/1000\n",
      "22/22 [==============================] - 16s 732ms/step - loss: 0.0478 - val_loss: 0.0484\n",
      "Epoch 152/1000\n",
      "22/22 [==============================] - 13s 569ms/step - loss: 0.0478 - val_loss: 0.0484\n",
      "Epoch 153/1000\n",
      "22/22 [==============================] - 15s 696ms/step - loss: 0.0478 - val_loss: 0.0484\n",
      "Epoch 154/1000\n",
      "22/22 [==============================] - 14s 645ms/step - loss: 0.0478 - val_loss: 0.0484\n"
     ]
    },
    {
     "name": "stdout",
     "output_type": "stream",
     "text": [
      "Epoch 155/1000\n",
      "22/22 [==============================] - 13s 572ms/step - loss: 0.0478 - val_loss: 0.0484\n",
      "Epoch 156/1000\n",
      "22/22 [==============================] - 15s 674ms/step - loss: 0.0478 - val_loss: 0.0484\n",
      "Epoch 157/1000\n",
      "22/22 [==============================] - 13s 605ms/step - loss: 0.0478 - val_loss: 0.0484\n",
      "Epoch 158/1000\n",
      "22/22 [==============================] - 14s 640ms/step - loss: 0.0478 - val_loss: 0.0484\n",
      "Epoch 159/1000\n",
      "22/22 [==============================] - 13s 584ms/step - loss: 0.0477 - val_loss: 0.0484\n",
      "Epoch 160/1000\n",
      "22/22 [==============================] - 11s 507ms/step - loss: 0.0477 - val_loss: 0.0484\n",
      "Epoch 161/1000\n",
      "22/22 [==============================] - 15s 674ms/step - loss: 0.0477 - val_loss: 0.0484\n",
      "Epoch 162/1000\n",
      "22/22 [==============================] - 14s 621ms/step - loss: 0.0477 - val_loss: 0.0484\n",
      "Epoch 163/1000\n",
      "22/22 [==============================] - 11s 497ms/step - loss: 0.0477 - val_loss: 0.0484\n",
      "Epoch 164/1000\n",
      "22/22 [==============================] - 15s 686ms/step - loss: 0.0477 - val_loss: 0.0484\n",
      "Epoch 165/1000\n",
      "22/22 [==============================] - 16s 748ms/step - loss: 0.0477 - val_loss: 0.0484\n",
      "Epoch 166/1000\n",
      "22/22 [==============================] - 16s 743ms/step - loss: 0.0477 - val_loss: 0.0484\n",
      "Epoch 167/1000\n",
      "22/22 [==============================] - 12s 547ms/step - loss: 0.0477 - val_loss: 0.0484\n",
      "Epoch 168/1000\n",
      "22/22 [==============================] - 14s 641ms/step - loss: 0.0477 - val_loss: 0.0484\n",
      "Epoch 169/1000\n",
      "22/22 [==============================] - 13s 603ms/step - loss: 0.0477 - val_loss: 0.0484\n",
      "Epoch 170/1000\n",
      "22/22 [==============================] - 12s 535ms/step - loss: 0.0477 - val_loss: 0.0484\n",
      "Epoch 171/1000\n",
      "22/22 [==============================] - 15s 666ms/step - loss: 0.0477 - val_loss: 0.0484\n",
      "Epoch 172/1000\n",
      "22/22 [==============================] - 13s 602ms/step - loss: 0.0477 - val_loss: 0.0484\n",
      "Epoch 173/1000\n",
      "22/22 [==============================] - 14s 653ms/step - loss: 0.0477 - val_loss: 0.0484\n",
      "Epoch 174/1000\n",
      "22/22 [==============================] - ETA: 0s - loss: 0.0477\n",
      "Epoch 00174: ReduceLROnPlateau reducing learning rate to 1.249999968422344e-05.\n",
      "22/22 [==============================] - 12s 559ms/step - loss: 0.0477 - val_loss: 0.0484\n"
     ]
    },
    {
     "data": {
      "text/plain": [
       "<tensorflow.python.keras.callbacks.History at 0x7f605d6579b0>"
      ]
     },
     "execution_count": 11,
     "metadata": {},
     "output_type": "execute_result"
    }
   ],
   "source": [
    "e.model.compile(optimizer = optimizers.Adam(lr=1e-4), loss=losses.MeanSquaredError())\n",
    "e.model.fit(train_data_onehot,train_data_onehot,\n",
    "            batch_size= 1500,epochs=1000,\n",
    "            shuffle=True,\n",
    "            validation_data=(valid_data_onehot, valid_data_onehot),\n",
    "            callbacks=[reduce_lr, e_s])"
   ]
  },
  {
   "cell_type": "code",
   "execution_count": 13,
   "metadata": {},
   "outputs": [],
   "source": [
    "e.model.save('model/autoencoder.h5')"
   ]
  },
  {
   "cell_type": "code",
   "execution_count": 12,
   "metadata": {},
   "outputs": [
    {
     "data": {
      "image/png": "[encoded data removed]",
      "text/plain": [
       "<Figure size 432x288 with 1 Axes>"
      ]
     },
     "metadata": {
      "needs_background": "light"
     },
     "output_type": "display_data"
    }
   ],
   "source": [
    "from obesity.model_evaluation import metric_array,show_train_history\n",
    "\n",
    "show_train_history(e.model.history ,'loss','val_loss')"
   ]
  },
  {
   "cell_type": "code",
   "execution_count": 14,
   "metadata": {},
   "outputs": [
    {
     "name": "stdout",
     "output_type": "stream",
     "text": [
      "Model: \"functional_3\"\n",
      "_________________________________________________________________\n",
      "Layer (type)                 Output Shape              Param #   \n",
      "=================================================================\n",
      "input_2 (InputLayer)         [(None, 5241, 11)]        0         \n",
      "_________________________________________________________________\n",
      "flatten_1 (Flatten)          (None, 57651)             0         \n",
      "_________________________________________________________________\n",
      "dense_4 (Dense)              (None, 1024)              59035648  \n",
      "_________________________________________________________________\n",
      "leaky_re_lu_3 (LeakyReLU)    (None, 1024)              0         \n",
      "_________________________________________________________________\n",
      "batch_normalization_2 (Batch (None, 1024)              2048      \n",
      "_________________________________________________________________\n",
      "dense_5 (Dense)              (None, 256)               262400    \n",
      "_________________________________________________________________\n",
      "leaky_re_lu_4 (LeakyReLU)    (None, 256)               0         \n",
      "_________________________________________________________________\n",
      "embedding (BatchNormalizatio (None, 256)               512       \n",
      "_________________________________________________________________\n",
      "dense_6 (Dense)              (None, 1024)              263168    \n",
      "_________________________________________________________________\n",
      "leaky_re_lu_5 (LeakyReLU)    (None, 1024)              0         \n",
      "_________________________________________________________________\n",
      "batch_normalization_3 (Batch (None, 1024)              2048      \n",
      "_________________________________________________________________\n",
      "dense_7 (Dense)              (None, 57651)             59092275  \n",
      "_________________________________________________________________\n",
      "reshape_1 (Reshape)          (None, 5241, 11)          0         \n",
      "_________________________________________________________________\n",
      "softmax_1 (Softmax)          (None, 5241, 11)          0         \n",
      "=================================================================\n",
      "Total params: 118,658,099\n",
      "Trainable params: 118,653,491\n",
      "Non-trainable params: 4,608\n",
      "_________________________________________________________________\n"
     ]
    }
   ],
   "source": [
    "e.summary(show_detail=True)"
   ]
  },
  {
   "cell_type": "code",
   "execution_count": 15,
   "metadata": {},
   "outputs": [],
   "source": [
    "layer_name = 'embedding'\n",
    "intermediate_layer_model = Model(inputs=e.model.input,\n",
    "                                 outputs=e.model.get_layer(layer_name).output)\n",
    "#intermediate_output = intermediate_layer_model.predict(data)"
   ]
  },
  {
   "cell_type": "code",
   "execution_count": 24,
   "metadata": {},
   "outputs": [],
   "source": [
    "intermediate_layer_model.save('model/autoencoder_embedding.h5')"
   ]
  },
  {
   "cell_type": "code",
   "execution_count": 26,
   "metadata": {},
   "outputs": [
    {
     "data": {
      "text/plain": [
       "(array([9.43300e+03, 2.54390e+05, 2.61697e+05, 1.81445e+05, 1.43337e+05,\n",
       "        6.32880e+04, 1.59140e+04, 2.34400e+03, 2.28000e+02, 2.00000e+01]),\n",
       " array([-2.1651280e+00, -1.4430802e+00, -7.2103232e-01,  1.0154962e-03,\n",
       "         7.2306335e-01,  1.4451112e+00,  2.1671591e+00,  2.8892069e+00,\n",
       "         3.6112547e+00,  4.3333025e+00,  5.0553503e+00], dtype=float32),\n",
       " <a list of 10 Patch objects>)"
      ]
     },
     "execution_count": 26,
     "metadata": {},
     "output_type": "execute_result"
    },
    {
     "data": {
      "image/png": "[encoded data removed]",
      "text/plain": [
       "<Figure size 432x288 with 1 Axes>"
      ]
     },
     "metadata": {
      "needs_background": "light"
     },
     "output_type": "display_data"
    }
   ],
   "source": [
    "plt.hist(intermediate_layer_model.predict(valid_data_onehot).reshape(-1))"
   ]
  },
  {
   "cell_type": "code",
   "execution_count": 27,
   "metadata": {},
   "outputs": [
    {
     "data": {
      "text/plain": [
       "array([[ 2.5654812 ,  0.30414417, -0.20220245, ...,  0.990989  ,\n",
       "        -1.097013  , -0.52166194],\n",
       "       [ 1.8264413 , -0.61609274, -0.52668625, ..., -0.15971403,\n",
       "        -0.9907142 ,  0.3674222 ],\n",
       "       [ 1.8611195 , -0.6060453 , -0.05250496, ..., -0.23037353,\n",
       "        -0.8477092 , -0.32546228],\n",
       "       ...,\n",
       "       [ 1.0895673 , -0.84726864, -0.29234987, ..., -0.4710806 ,\n",
       "         0.00803163, -0.10983738],\n",
       "       [ 0.44981602, -0.20264295,  0.26877716, ..., -0.40361053,\n",
       "        -0.47618154, -0.36361402],\n",
       "       [ 0.78749216,  1.2145939 ,  0.8789628 , ...,  2.2844737 ,\n",
       "        -0.8300529 , -0.46888575]], dtype=float32)"
      ]
     },
     "execution_count": 27,
     "metadata": {},
     "output_type": "execute_result"
    }
   ],
   "source": [
    "intermediate_layer_model.predict(valid_data_onehot)"
   ]
  },
  {
   "cell_type": "code",
   "execution_count": 30,
   "metadata": {},
   "outputs": [
    {
     "data": {
      "image/png": "[encoded data removed]",
      "text/plain": [
       "<IPython.core.display.Image object>"
      ]
     },
     "execution_count": 30,
     "metadata": {},
     "output_type": "execute_result"
    }
   ],
   "source": [
    "from tensorflow.keras.utils import plot_model\n",
    "plot_model(e.model, show_layer_names=False, to_file='autoencoder.png')"
   ]
  },
  {
   "cell_type": "code",
   "execution_count": null,
   "metadata": {},
   "outputs": [],
   "source": []
  }
 ],
 "metadata": {
  "kernelspec": {
   "display_name": "Python 3",
   "language": "python",
   "name": "python3"
  },
  "language_info": {
   "codemirror_mode": {
    "name": "ipython",
    "version": 3
   },
   "file_extension": ".py",
   "mimetype": "text/x-python",
   "name": "python",
   "nbconvert_exporter": "python",
   "pygments_lexer": "ipython3",
   "version": "3.6.9"
  }
 },
 "nbformat": 4,
 "nbformat_minor": 4
}
