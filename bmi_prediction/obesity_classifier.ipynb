{
 "cells": [
  {
   "cell_type": "code",
   "execution_count": 80,
   "metadata": {},
   "outputs": [],
   "source": [
    "import sys\n",
    "sys.path.append('/home/obesity')\n",
    "import pandas as pd\n",
    "import numpy as np\n",
    "from bmi.snp_encoding_and_labeling import encode_snp_data_get_bmi_label\n",
    "from bmi.customized_activation_function import CustomizedAct\n",
    "from matplotlib import pyplot as plt\n",
    "from bmi.model import create_dense_model, create_deep_dense_model,dense_block \n",
    "from bmi.plot import show_bmi_distribution,show_customized_act,show_predicting_distribution,show_predicting_result,show_training_history\n",
    "import os\n",
    "os.environ['CUDA_VISIBLE_DEVICES']= '3'\n",
    "os.environ['TF_FORCE_GPU_ALLOW_GROWTH'] = 'true'"
   ]
  },
  {
   "cell_type": "code",
   "execution_count": 79,
   "metadata": {},
   "outputs": [
    {
     "data": {
      "text/plain": [
       "<module 'bmi.model' from '/home/obesity/bmi/model.py'>"
      ]
     },
     "execution_count": 79,
     "metadata": {},
     "output_type": "execute_result"
    }
   ],
   "source": [
    "import importlib\n",
    "importlib.reload(sys.modules['bmi.model'])"
   ]
  },
  {
   "cell_type": "code",
   "execution_count": 3,
   "metadata": {},
   "outputs": [],
   "source": [
    "# define path\n",
    "train_data_path = '/home/obesity/snp_data/snp_data_1112/Train_Male_SNP_5631_#_12551.tsv'\n",
    "valid_data_path = '/home/obesity/snp_data/snp_data_1112/Valid_Male_SNP_5631_#_1395.tsv'\n",
    "test_data_path = '/home/obesity/snp_data/snp_data_1112/Test_Male_SNP_5631_#_1550.tsv'\n",
    "train_bmi_data_path ='/home/obesity/input_data/ped_1112/1105_male_train.txt'\n",
    "test_bmi_data_path ='/home/obesity/input_data/ped_1112/1105_male_test.txt'"
   ]
  },
  {
   "cell_type": "code",
   "execution_count": 4,
   "metadata": {},
   "outputs": [],
   "source": [
    "train_data = pd.read_table(train_data_path)\n",
    "valid_data = pd.read_table(valid_data_path)\n",
    "test_data = pd.read_table(test_data_path)"
   ]
  },
  {
   "cell_type": "code",
   "execution_count": 5,
   "metadata": {},
   "outputs": [],
   "source": [
    "train_array, train_labels = encode_snp_data_get_bmi_label(train_data, train_bmi_data_path)\n",
    "valid_array, valid_labels = encode_snp_data_get_bmi_label(valid_data, train_bmi_data_path)\n",
    "test_array, test_labels = encode_snp_data_get_bmi_label(test_data, test_bmi_data_path)"
   ]
  },
  {
   "cell_type": "code",
   "execution_count": 6,
   "metadata": {},
   "outputs": [],
   "source": [
    "def array_split_c(data_list,labels):\n",
    "    fat_data = []\n",
    "    not_fat_data = []\n",
    "    fat_label = []\n",
    "    not_fat_label = []\n",
    "    for data,label in zip(data_list,labels):\n",
    "        if label >= 30:\n",
    "            fat_label.append(1)\n",
    "            fat_data.append(data)\n",
    "        else:\n",
    "            not_fat_label.append(0)\n",
    "            not_fat_data.append(data)\n",
    "    return {\n",
    "        \"fat\":{\n",
    "            \"label\":fat_label,\n",
    "            \"data\":fat_data\n",
    "        },\n",
    "        \"not_fat\":{\n",
    "            \"label\":not_fat_label,\n",
    "            \"data\":not_fat_data\n",
    "        }\n",
    "    }"
   ]
  },
  {
   "cell_type": "code",
   "execution_count": 7,
   "metadata": {},
   "outputs": [],
   "source": [
    "train_split = array_split_c(train_array,train_labels)\n",
    "valid_split = array_split_c(valid_array,valid_labels)\n",
    "test_split = array_split_c(test_array,test_labels)"
   ]
  },
  {
   "cell_type": "code",
   "execution_count": 8,
   "metadata": {},
   "outputs": [],
   "source": [
    "train_obesity_array, train_obesity_labels,train_normal_array, train_normal_labels= train_split['fat']['data'], train_split['fat']['label'], train_split['not_fat']['data'], train_split['not_fat']['label']\n",
    "valid_obesity_array, valid_obesity_labels,valid_normal_array, valid_normal_labels= valid_split['fat']['data'], valid_split['fat']['label'], valid_split['not_fat']['data'], valid_split['not_fat']['label']\n",
    "test_obesity_array, test_obesity_labels,test_normal_array, test_normal_labels= test_split['fat']['data'], test_split['fat']['label'], test_split['not_fat']['data'], test_split['not_fat']['label']\n"
   ]
  },
  {
   "cell_type": "code",
   "execution_count": 9,
   "metadata": {},
   "outputs": [],
   "source": [
    "train_array_c = np.array(train_obesity_array+train_normal_array)\n",
    "train_labels_c = np.array(train_obesity_labels+train_normal_labels)\n",
    "valid_array_c = np.array(valid_obesity_array+valid_normal_array)\n",
    "valid_labels_c = np.array(valid_obesity_labels+valid_normal_labels)\n",
    "test_array_c = np.array(test_obesity_array+test_normal_array)\n",
    "test_labels_c = np.array(test_obesity_labels+test_normal_labels)"
   ]
  },
  {
   "cell_type": "code",
   "execution_count": 26,
   "metadata": {},
   "outputs": [
    {
     "data": {
      "text/plain": [
       "array([[0., 1.],\n",
       "       [0., 1.],\n",
       "       [0., 1.],\n",
       "       ...,\n",
       "       [1., 0.],\n",
       "       [1., 0.],\n",
       "       [1., 0.]], dtype=float32)"
      ]
     },
     "execution_count": 26,
     "metadata": {},
     "output_type": "execute_result"
    }
   ],
   "source": [
    "from tensorflow.keras.utils import to_categorical\n",
    "to_categorical(train_labels_c)"
   ]
  },
  {
   "cell_type": "code",
   "execution_count": 40,
   "metadata": {},
   "outputs": [],
   "source": [
    "def array_split_3(data_list,labels):\n",
    "    fat_data = []\n",
    "    normal_data = []\n",
    "    thin_data = []\n",
    "    fat_label = []\n",
    "    normal_label = []\n",
    "    thin_label = []\n",
    "    for data,label in zip(data_list,labels):\n",
    "        if label >= 30:\n",
    "            fat_label.append(0)\n",
    "            fat_data.append(data)\n",
    "        elif label < 30 and label >= 24:\n",
    "            normal_label.append(1)\n",
    "            normal_data.append(data)\n",
    "        else:\n",
    "            thin_label.append(2)\n",
    "            thin_data.append(data)\n",
    "    return {\n",
    "        \"fat\":{\n",
    "            \"label\":fat_label,\n",
    "            \"data\":fat_data\n",
    "        },\n",
    "        \"normal\":{\n",
    "            'label':normal_label,\n",
    "            'data':normal_data\n",
    "        },\n",
    "        \"thin\":{\n",
    "            \"label\":thin_label,\n",
    "            \"data\":thin_data\n",
    "        }\n",
    "    }"
   ]
  },
  {
   "cell_type": "code",
   "execution_count": 41,
   "metadata": {},
   "outputs": [],
   "source": [
    "train_split = array_split_3(train_array,train_labels)\n",
    "valid_split = array_split_3(valid_array,valid_labels)\n",
    "test_split = array_split_3(test_array,test_labels)"
   ]
  },
  {
   "cell_type": "code",
   "execution_count": 42,
   "metadata": {},
   "outputs": [],
   "source": [
    "train_obesity_array, train_obesity_labels,train_normal_array, train_normal_labels, train_thin_array, train_thin_labels= train_split['fat']['data'], train_split['fat']['label'], train_split['normal']['data'], train_split['normal']['label'], train_split['thin']['data'], train_split['thin']['label'] \n",
    "valid_obesity_array, valid_obesity_labels,valid_normal_array, valid_normal_labels, valid_thin_array, valid_thin_labels= valid_split['fat']['data'], valid_split['fat']['label'], valid_split['normal']['data'], valid_split['normal']['label'], valid_split['thin']['data'], valid_split['thin']['label']\n",
    "test_obesity_array, test_obesity_labels,test_normal_array, test_normal_labels, test_thin_array, test_thin_labels= test_split['fat']['data'], test_split['fat']['label'], test_split['normal']['data'], test_split['normal']['label'], test_split['thin']['data'], test_split['thin']['label']"
   ]
  },
  {
   "cell_type": "code",
   "execution_count": 92,
   "metadata": {},
   "outputs": [],
   "source": [
    "train_array_c = np.array(train_obesity_array+train_normal_array+train_thin_array)\n",
    "train_labels_c = to_categorical(np.array(train_obesity_labels+train_normal_labels+train_thin_labels))\n",
    "valid_array_c = np.array(valid_obesity_array+valid_normal_array+valid_thin_array)\n",
    "valid_labels_c = np.array(valid_obesity_labels+valid_normal_labels+valid_thin_labels)\n",
    "test_array_c = np.array(test_obesity_array+test_normal_array+test_thin_array)\n",
    "test_labels_c = to_categorical(np.array(test_obesity_labels+test_normal_labels+test_thin_labels))"
   ]
  },
  {
   "cell_type": "code",
   "execution_count": 117,
   "metadata": {
    "scrolled": false
   },
   "outputs": [
    {
     "data": {
      "text/plain": [
       "{0: 1372, 1: 6705, 2: 4474}"
      ]
     },
     "execution_count": 117,
     "metadata": {},
     "output_type": "execute_result"
    }
   ],
   "source": [
    "dict(zip(*np.unique(np.argmax(train_labels_c,1), return_counts=True)))"
   ]
  },
  {
   "cell_type": "code",
   "execution_count": null,
   "metadata": {},
   "outputs": [],
   "source": [
    "w = []\n",
    "for i in train_labels_c:\n",
    "    if i == 0:\n",
    "        w.append(24)\n",
    "    elif i == 1:\n",
    "        w.append(4)\n",
    "    else:\n",
    "        w.append(6)\n"
   ]
  },
  {
   "cell_type": "code",
   "execution_count": 164,
   "metadata": {},
   "outputs": [],
   "source": [
    "w = {0:1, 1:10}"
   ]
  },
  {
   "cell_type": "code",
   "execution_count": null,
   "metadata": {
    "scrolled": true
   },
   "outputs": [],
   "source": [
    "from tensorflow.keras import optimizers\n",
    "from tensorflow.keras import callbacks\n",
    "from tensorflow.keras import activations\n",
    "model = create_deep_dense_model(len(train_array_c[1]),len(train_labels_c[1]),activations.softmax)\n",
    "model.compile(optimizer = optimizers.Adam(lr=1e-3), loss='categorical_crossentropy',metrics=['accuracy'])\n",
    "reduce_lr = callbacks.ReduceLROnPlateau(monitor='val_loss', factor=0.5, patience=10, min_lr=1e-5, verbose=1)\n",
    "early_stop = callbacks.EarlyStopping(monitor='val_loss', patience=100, verbose=1)\n",
    "history = model.fit(train_array_c, train_labels_c,\n",
    "                    #class_weight=w,\n",
    "                    validation_data=(np.array(valid_array_c), np.array(valid_labels_c)),\n",
    "                    batch_size= 128, epochs=500, verbose=1,\n",
    "                    callbacks=[reduce_lr, early_stop])"
   ]
  },
  {
   "cell_type": "code",
   "execution_count": 84,
   "metadata": {},
   "outputs": [],
   "source": [
    "def show_training_history(history):\n",
    "    fig, (ax1, ax2) = plt.subplots(1, 2,figsize=(15,5))\n",
    "    fig.suptitle('Train History', fontsize=15)\n",
    "    ax1.set(xlabel='Epoch', ylabel='acc')\n",
    "    ax1.set_title('Accuracy')\n",
    "    ax1.plot(history.history['accuracy'])\n",
    "    ax1.plot(history.history['val_accuracy'])\n",
    "    ax2.set_title('Loss')\n",
    "    ax2.set(xlabel='Epoch', ylabel='loss')\n",
    "    ax2.plot(history.history['loss'])\n",
    "    ax2.plot(history.history['val_loss'])\n",
    "    fig.show()"
   ]
  },
  {
   "cell_type": "code",
   "execution_count": 85,
   "metadata": {},
   "outputs": [
    {
     "data": {
      "image/png": "[encoded data removed]",
      "text/plain": [
       "<Figure size 1080x360 with 2 Axes>"
      ]
     },
     "metadata": {
      "needs_background": "light"
     },
     "output_type": "display_data"
    }
   ],
   "source": [
    "show_training_history(history)"
   ]
  },
  {
   "cell_type": "code",
   "execution_count": 93,
   "metadata": {},
   "outputs": [],
   "source": [
    "from sklearn.metrics import accuracy_score,accuracy_score,f1_score,matthews_corrcoef,confusion_matrix,roc_curve,auc\n",
    "import matplotlib.pyplot as plt\n",
    "def metric_array(test_data, test_labels, model):\n",
    "    labels_score = model.predict(test_data)\n",
    "    accuracy = accuracy_score(test_labels, labels_score.round())\n",
    "    confusion = confusion_matrix(test_labels, labels_score.round())\n",
    "    TP = confusion[1, 1]\n",
    "    TN = confusion[0, 0]\n",
    "    FP = confusion[0, 1]\n",
    "    FN = confusion[1, 0]\n",
    "    precision = TP / float(TP + FP)\n",
    "    sensitivity = TP / float(FN + TP)\n",
    "    specificity = TN / float(TN + FP)\n",
    "    f1 = f1_score(test_labels, labels_score.round())\n",
    "    mcc = matthews_corrcoef(test_labels, labels_score.round()) \n",
    "    metric = [accuracy,precision,sensitivity,specificity,f1,mcc]\n",
    "    return {'accuracy':accuracy,\n",
    "            'precision':precision,\n",
    "            'sensitivity':sensitivity,\n",
    "            'specificity':specificity,\n",
    "            'f1':f1,\n",
    "            'mcc':mcc,\n",
    "           'metric':metric},confusion"
   ]
  },
  {
   "cell_type": "code",
   "execution_count": 88,
   "metadata": {
    "scrolled": false
   },
   "outputs": [
    {
     "data": {
      "text/plain": [
       "({'accuracy': 0.8103225806451613,\n",
       "  'precision': 0.1111111111111111,\n",
       "  'sensitivity': 0.08791208791208792,\n",
       "  'specificity': 0.9064327485380117,\n",
       "  'f1': 0.09815950920245398,\n",
       "  'mcc': -0.006271190676016863,\n",
       "  'metric': [0.8103225806451613,\n",
       "   0.1111111111111111,\n",
       "   0.08791208791208792,\n",
       "   0.9064327485380117,\n",
       "   0.09815950920245398,\n",
       "   -0.006271190676016863]},\n",
       " array([[1240,  128],\n",
       "        [ 166,   16]]))"
      ]
     },
     "execution_count": 88,
     "metadata": {},
     "output_type": "execute_result"
    }
   ],
   "source": [
    "metric_array(test_array_c, test_labels_c, model)"
   ]
  },
  {
   "cell_type": "code",
   "execution_count": 106,
   "metadata": {
    "scrolled": true
   },
   "outputs": [
    {
     "name": "stdout",
     "output_type": "stream",
     "text": [
      "              precision    recall  f1-score   support\n",
      "\n",
      "     obesity       0.53      0.45      0.49       133\n",
      "      normal       0.65      0.65      0.65       771\n",
      "        thin       0.57      0.59      0.58       491\n",
      "\n",
      "    accuracy                           0.61      1395\n",
      "   macro avg       0.58      0.57      0.57      1395\n",
      "weighted avg       0.61      0.61      0.61      1395\n",
      "\n"
     ]
    }
   ],
   "source": [
    "from sklearn.metrics import classification_report\n",
    "from numpy import argmax\n",
    "labels_score = np.argmax(model.predict(valid_array_c),axis=1)\n",
    "accuracy = accuracy_score(valid_labels_c, labels_score)\n",
    "target_names = ['obesity', 'normal', 'thin']\n",
    "print(classification_report(valid_labels_c, labels_score, target_names=target_names))"
   ]
  }
 ],
 "metadata": {
  "kernelspec": {
   "display_name": "Python 3",
   "language": "python",
   "name": "python3"
  },
  "language_info": {
   "codemirror_mode": {
    "name": "ipython",
    "version": 3
   },
   "file_extension": ".py",
   "mimetype": "text/x-python",
   "name": "python",
   "nbconvert_exporter": "python",
   "pygments_lexer": "ipython3",
   "version": "3.6.9"
  }
 },
 "nbformat": 4,
 "nbformat_minor": 4
}
