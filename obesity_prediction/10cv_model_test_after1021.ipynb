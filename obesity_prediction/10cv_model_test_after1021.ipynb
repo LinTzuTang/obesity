{
 "cells": [
  {
   "cell_type": "code",
   "execution_count": null,
   "metadata": {},
   "outputs": [],
   "source": [
    "import pandas as pd\n",
    "import numpy as np\n",
    "import sys\n",
    "import os\n",
    "sys.path.append('/home/obesity')\n",
    "from obesity.data_preproocessing import write_obesity_patient_snp_data\n",
    "from obesity.snp_encoding_traintest_split import read_obesity_and_normal_snp_data, snp_encoding_and_labeling\n",
    "from obesity.model_evaluation import predict_score_metric_array, create_result_table\n",
    "from tensorflow.keras.models import load_model\n",
    "from itertools import chain"
   ]
  },
  {
   "cell_type": "code",
   "execution_count": null,
   "metadata": {},
   "outputs": [],
   "source": [
    "obesity_data_path, normal_data_path = write_obesity_patient_snp_data('/home/obesity/input_data/ped_after1021/TWB2_male_3060_bmi2430_exclude_combine1020_test_acgt_ped.ped','/home/obesity/input_data/MOlist.csv', '/home/obesity/snp_data/snp_data_after1021')"
   ]
  },
  {
   "cell_type": "code",
   "execution_count": null,
   "metadata": {},
   "outputs": [],
   "source": [
    "O_data, N_data = read_obesity_and_normal_snp_data(obesity_data_path,normal_data_path)"
   ]
  },
  {
   "cell_type": "code",
   "execution_count": null,
   "metadata": {},
   "outputs": [],
   "source": [
    "data_encoded, labels = snp_encoding_and_labeling(O_data,N_data)"
   ]
  },
  {
   "cell_type": "code",
   "execution_count": null,
   "metadata": {},
   "outputs": [],
   "source": [
    "models_root = '/home/obesity/cv_results_10_fold/cv_results_10_fold_after1021/TWB2_male_3060_bmi2430_exclude_combine1020_acgt_ped/model'\n",
    "predict_score_df = pd.DataFrame()\n",
    "for m in range(1, 11):\n",
    "    model_path = os.path.join(models_root, 'model_best_{}.h5'.format(m))\n",
    "    model = load_model(model_path)\n",
    "    predict_score = model.predict(data_encoded)\n",
    "    predict_score_df['model_best_{}'.format(m)]= list(chain.from_iterable(predict_score))"
   ]
  },
  {
   "cell_type": "code",
   "execution_count": null,
   "metadata": {},
   "outputs": [],
   "source": [
    "ensemble_models_test_result = pd.DataFrame()\n",
    "predict_score_df['Mean']= predict_score_df.mean(axis=1)\n",
    "metrics = predict_score_metric_array(np.array(predict_score_df['Mean']),labels)\n",
    "ensemble_models_test_result['test_after1021'] = metrics"
   ]
  },
  {
   "cell_type": "code",
   "execution_count": null,
   "metadata": {},
   "outputs": [],
   "source": [
    "ensemble_models_test_result.index =['accuracy','precision','sensitivity','specificity','f1','mcc']"
   ]
  },
  {
   "cell_type": "code",
   "execution_count": null,
   "metadata": {},
   "outputs": [],
   "source": [
    "p = np.round(ensemble_models_test_result,2).T"
   ]
  },
  {
   "cell_type": "code",
   "execution_count": null,
   "metadata": {},
   "outputs": [],
   "source": [
    "p.to_csv('/home/obesity/cv_results_10_fold/cv_results_10_fold_after1021/TWB2_male_3060_bmi2430_exclude_combine1020_acgt_ped/ensemble_models_test_result.csv')\n",
    "\n",
    "\n"
   ]
  },
  {
   "cell_type": "code",
   "execution_count": null,
   "metadata": {},
   "outputs": [],
   "source": [
    "os.chdir('/home/obesity/cv_results_10_fold/cv_results_10_fold_after1021/TWB2_male_3060_bmi2430_exclude_combine1020_acgt_ped')\n",
    "create_result_table()"
   ]
  },
  {
   "cell_type": "code",
   "execution_count": null,
   "metadata": {},
   "outputs": [],
   "source": []
  }
 ],
 "metadata": {
  "kernelspec": {
   "display_name": "Python 3",
   "language": "python",
   "name": "python3"
  },
  "language_info": {
   "codemirror_mode": {
    "name": "ipython",
    "version": 3
   },
   "file_extension": ".py",
   "mimetype": "text/x-python",
   "name": "python",
   "nbconvert_exporter": "python",
   "pygments_lexer": "ipython3",
   "version": "3.6.9"
  }
 },
 "nbformat": 4,
 "nbformat_minor": 4
}
